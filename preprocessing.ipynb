{
 "cells": [
  {
   "cell_type": "markdown",
   "id": "ed67e03d",
   "metadata": {},
   "source": [
    "### Necessary Imports"
   ]
  },
  {
   "cell_type": "code",
   "execution_count": 39,
   "id": "579e480e",
   "metadata": {},
   "outputs": [],
   "source": [
    "import json\n",
    "import re\n",
    "import os\n",
    "from openai import OpenAI\n",
    "from dotenv import load_dotenv"
   ]
  },
  {
   "cell_type": "markdown",
   "id": "a8fe25b7",
   "metadata": {},
   "source": [
    "### Flatten Nested JSON Lists\n",
    "\n",
    "This cell defines a function that takes a file containing multiple JSON lists, for example:\n",
    "\n",
    "```json\n",
    "[ {...} ], [ {...} ], ...\n",
    "```\n",
    "and flattens all contained objects into a single Python list."
   ]
  },
  {
   "cell_type": "code",
   "execution_count": 40,
   "id": "d033078d",
   "metadata": {},
   "outputs": [],
   "source": [
    "def flatted_nested_json(file_path):\n",
    "    with open(file_path, \"r\", encoding=\"utf-8\") as f:\n",
    "        text = f.read()\n",
    "\n",
    "    text = re.sub(r'\\s+', ' ', text.strip())\n",
    "    parts = re.split(r'\\],\\s*\\[', text)\n",
    "\n",
    "    all_entries = []\n",
    "    for part in parts:\n",
    "        cleaned = part.strip().lstrip(',').lstrip('[').rstrip('],').rstrip(',')\n",
    "        clearned_json = f'[{cleaned}]'\n",
    "\n",
    "        objs = json.loads(clearned_json)\n",
    "        if isinstance(objs, list):\n",
    "            all_entries.extend(objs)\n",
    "\n",
    "    return all_entries\n",
    "\n",
    "\n",
    "plan_prices = flatted_nested_json(\"data/plan_prices.jsonl\")\n",
    "brand_migration_deals = flatted_nested_json(\"data/brand_migration_deals.jsonl\")"
   ]
  },
  {
   "cell_type": "markdown",
   "id": "68158228",
   "metadata": {},
   "source": [
    "### Clean and Normalize Plan Data\n",
    "This cell takes the flattened JSON entries and:\n",
    "- Converts 'international_minutes' to integer, or `inf` for unlimited\n",
    "- Normalizes 'offer_expiry' and price fields\n",
    "- Handles missing or N/A values\n"
   ]
  },
  {
   "cell_type": "code",
   "execution_count": 41,
   "id": "153175cd",
   "metadata": {},
   "outputs": [],
   "source": [
    "def clean_plan_entries(entries):\n",
    "    \n",
    "    def normalize_value(val):\n",
    "        if isinstance(val, str) and val.strip().upper() in [\"N/A\", \"NA\", \"\", \"NONE\"]:\n",
    "            return None\n",
    "        return val\n",
    "    \n",
    "    for obj in entries:\n",
    "        # --- Normalize offer_expiry ---\n",
    "        if \"offer_expiry\" in obj:\n",
    "            obj[\"offer_expiry\"] = normalize_value(obj[\"offer_expiry\"])\n",
    "\n",
    "        # --- Normalize price fields ---\n",
    "        for price_field in [\"price_per_month\", \"original_price\"]:\n",
    "            val = obj.get(price_field)\n",
    "\n",
    "            if isinstance(val, str):\n",
    "                match = re.search(r'\\d+(?:\\.\\d+)?', val)\n",
    "                obj[price_field] = float(match.group()) if match else None\n",
    "\n",
    "            elif isinstance(val, (int, float)):\n",
    "                obj[price_field] = float(val)\n",
    "\n",
    "            else:\n",
    "                obj[price_field] = None\n",
    "        \n",
    "        # --- Normalize international_minutes ---\n",
    "        calling = obj.get(\"calling\", {})\n",
    "        val = calling.get(\"international_minutes\")\n",
    "\n",
    "        if isinstance(val, (int, float)):\n",
    "            calling[\"international_minutes\"] = int(val)\n",
    "\n",
    "        elif isinstance(val, str):\n",
    "            val_clean = val.strip().lower()\n",
    "\n",
    "            if \"unlimited\" in val_clean:\n",
    "                calling[\"international_minutes\"] = float('inf')\n",
    "            else:\n",
    "                match = re.search(r'\\d+', val_clean)\n",
    "                calling[\"international_minutes\"] = int(match.group()) if match else None\n",
    "\n",
    "        else:\n",
    "            calling[\"international_minutes\"] = None\n",
    "\n",
    "        obj[\"calling\"] = calling\n",
    "\n",
    "    return entries\n",
    "\n",
    "\n",
    "plan_prices = clean_plan_entries(plan_prices)\n",
    "brand_migration_deals = clean_plan_entries(brand_migration_deals)"
   ]
  },
  {
   "cell_type": "markdown",
   "id": "211b83c7",
   "metadata": {},
   "source": [
    "### Save JSON Objects as JSONL\n",
    "\n",
    "The `save_jsonl` function takes a list of JSON objects (dictionaries) and writes them to a file in **JSONL format**, where each object appears on a separate line.  "
   ]
  },
  {
   "cell_type": "code",
   "execution_count": 42,
   "id": "faadbaa9",
   "metadata": {},
   "outputs": [
    {
     "data": {
      "text/plain": [
       "'data/brand_migration_deals_flattened.jsonl'"
      ]
     },
     "execution_count": 42,
     "metadata": {},
     "output_type": "execute_result"
    }
   ],
   "source": [
    "def save_jsonl(entries, file_path=None):\n",
    "    directory = os.path.dirname(file_path)\n",
    "    if directory:\n",
    "        os.makedirs(directory, exist_ok=True)\n",
    "\n",
    "    with open(file_path, \"w\", encoding=\"utf-8\") as f:\n",
    "        for obj in entries:\n",
    "            f.write(json.dumps(obj, ensure_ascii=False) + \"\\n\")\n",
    "\n",
    "    return file_path\n",
    "\n",
    "\n",
    "save_jsonl(plan_prices, file_path=\"data/plan_prices_flattened.jsonl\")\n",
    "save_jsonl(brand_migration_deals, file_path=\"data/brand_migration_deals_flattened.jsonl\")"
   ]
  },
  {
   "cell_type": "markdown",
   "id": "1e5cd5f7",
   "metadata": {},
   "source": [
    "### Convert Plan JSON to Text\n",
    "This step uses the OpenAI API to turn each mobile plan JSON into a clear, customer-friendly text, skipping metadata.\n"
   ]
  },
  {
   "cell_type": "code",
   "execution_count": 43,
   "id": "5ab0e790",
   "metadata": {},
   "outputs": [],
   "source": [
    "load_dotenv()\n",
    "api_key = os.getenv(\"OPENAI_API_KEY\")\n",
    "client = OpenAI(api_key=api_key)\n",
    "\n",
    "def json_to_text(entry):\n",
    "    entry_for_prompt = entry.copy()\n",
    "    entry_for_prompt.pop(\"metadata\", None)\n",
    "\n",
    "    prompt = f\"\"\"\n",
    "    Convert the following mobile plan JSON into a clear, long human-readable description.\n",
    "    Include all relevant fields like provider, plan name, price, data, calling, texting, streaming, and additional perks. \n",
    "    Write it in full sentences suitable for a customer-friendly description.\n",
    "\n",
    "    JSON:\n",
    "    {json.dumps(entry_for_prompt, ensure_ascii=False)}\n",
    "    \"\"\"\n",
    "\n",
    "    response = client.chat.completions.create(\n",
    "        model=\"gpt-4o-mini\",\n",
    "        messages=[\n",
    "            {\n",
    "                \"role\": \"system\", \n",
    "                \"content\": (\n",
    "                    \"You are an expert at converting structured text into simple factual texts. \" \n",
    "                    \"Each entry should be a simple single line. \"\n",
    "                    \"No need to write anything extra other than converting the entry to a simple text. \"\n",
    "                    \"Do not create separate paragraphs.\"\n",
    "                )\n",
    "            },\n",
    "            {\n",
    "                \"role\": \"user\", \n",
    "                \"content\": prompt\n",
    "            }\n",
    "        ],\n",
    "        max_completion_tokens=500\n",
    "    )\n",
    "\n",
    "    text_output = response.choices[0].message.content.strip()\n",
    "    return text_output\n",
    "\n",
    "\n",
    "plan_prices_texts = [json_to_text(entry) for entry in plan_prices]\n",
    "brand_migrations_texts = [json_to_text(entry) for entry in brand_migration_deals]"
   ]
  },
  {
   "cell_type": "markdown",
   "id": "072848cc",
   "metadata": {},
   "source": [
    "### Combine Text with Metadata and Save\n",
    "This step sanitizes the metadata by converting any lists into comma-separated strings and nested dicts into JSON strings, and then merges each generated plan text with its original metadata (including provider and plan name) and saves the results as JSONL files."
   ]
  },
  {
   "cell_type": "code",
   "execution_count": 44,
   "id": "98fb9d95",
   "metadata": {},
   "outputs": [],
   "source": [
    "def sanitize_metadata(metadata):\n",
    "    sanitized = {}\n",
    "\n",
    "    for k, v in metadata.items():\n",
    "        if isinstance(v, list):\n",
    "            sanitized[k] = \", \".join(str(item) for item in v)\n",
    "        elif isinstance(v, dict):\n",
    "            sanitized[k] = json.dumps(v, ensure_ascii=False)\n",
    "        else:\n",
    "            sanitized[k] = v\n",
    "\n",
    "    return sanitized\n",
    "\n",
    "\n",
    "for entry in plan_prices:\n",
    "    entry[\"metadata\"] = sanitize_metadata(entry.get(\"metadata\", {}))\n",
    "\n",
    "for entry in brand_migration_deals:\n",
    "    entry[\"metadata\"] = sanitize_metadata(entry.get(\"metadata\", {}))"
   ]
  },
  {
   "cell_type": "code",
   "execution_count": 45,
   "id": "4b709dda",
   "metadata": {},
   "outputs": [
    {
     "data": {
      "text/plain": [
       "'data/brand_migration_deals_texts.jsonl'"
      ]
     },
     "execution_count": 45,
     "metadata": {},
     "output_type": "execute_result"
    }
   ],
   "source": [
    "def text_with_metadata(flattened_entries, text_list):\n",
    "    combined = []\n",
    "\n",
    "    for entry, text in zip(flattened_entries, text_list):\n",
    "        metadata_copy = entry.get(\"metadata\", {}).copy()\n",
    "        metadata_copy[\"provider\"] = entry.get(\"provider\")\n",
    "        metadata_copy[\"plan_name\"] = entry.get(\"plan_name\")\n",
    "\n",
    "        combined.append({\n",
    "            \"text\": text,\n",
    "            \"metadata\": metadata_copy\n",
    "        })\n",
    "\n",
    "    return combined\n",
    "\n",
    "\n",
    "plan_prices_texts = text_with_metadata(plan_prices, plan_prices_texts)\n",
    "brand_migrations_texts = text_with_metadata(brand_migration_deals, brand_migrations_texts)\n",
    "\n",
    "save_jsonl(plan_prices_texts, file_path=\"data/plan_prices_texts.jsonl\")\n",
    "save_jsonl(brand_migrations_texts, file_path=\"data/brand_migration_deals_texts.jsonl\")"
   ]
  }
 ],
 "metadata": {
  "kernelspec": {
   "display_name": "Python 3",
   "language": "python",
   "name": "python3"
  },
  "language_info": {
   "codemirror_mode": {
    "name": "ipython",
    "version": 3
   },
   "file_extension": ".py",
   "mimetype": "text/x-python",
   "name": "python",
   "nbconvert_exporter": "python",
   "pygments_lexer": "ipython3",
   "version": "3.13.3"
  }
 },
 "nbformat": 4,
 "nbformat_minor": 5
}
