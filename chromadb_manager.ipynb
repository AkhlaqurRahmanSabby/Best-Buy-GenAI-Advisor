{
 "cells": [
  {
   "cell_type": "markdown",
   "id": "6cdfde2c",
   "metadata": {},
   "source": [
    "### Necessary Imports"
   ]
  },
  {
   "cell_type": "code",
   "execution_count": 9,
   "id": "ce2a666f",
   "metadata": {},
   "outputs": [],
   "source": [
    "import chromadb\n",
    "from chromadb.utils import embedding_functions\n",
    "import json\n",
    "import os\n",
    "from openai import OpenAI\n",
    "from dotenv import load_dotenv"
   ]
  },
  {
   "cell_type": "markdown",
   "id": "3f157979",
   "metadata": {},
   "source": [
    "### Load Text Datasets\n",
    "\n",
    "This cell loads the preprocessed mobile plan datasets from JSONL files into memory for further indexing."
   ]
  },
  {
   "cell_type": "code",
   "execution_count": 10,
   "id": "f11c1657",
   "metadata": {},
   "outputs": [],
   "source": [
    "def load_jsonl(file_path):\n",
    "    with open(file_path, \"r\", encoding=\"utf-8\") as f:\n",
    "        return [json.loads(line) for line in f]\n",
    "    \n",
    "\n",
    "plan_prices = load_jsonl(\"data/plan_prices_texts.jsonl\")\n",
    "brand_migration_deals = load_jsonl(\"data/brand_migration_deals_texts.jsonl\")"
   ]
  },
  {
   "cell_type": "markdown",
   "id": "332032e7",
   "metadata": {},
   "source": [
    "### Initialize ChromaDB\n",
    "\n",
    "Set up a persistent Chroma database and create (or retrieves) collections for plan prices and brand migration deals."
   ]
  },
  {
   "cell_type": "code",
   "execution_count": 11,
   "id": "3b327ffb",
   "metadata": {},
   "outputs": [],
   "source": [
    "chroma_client = chromadb.PersistentClient(path=\"chromadb/mobile_advisor\")\n",
    "\n",
    "plan_prices_collection = chroma_client.get_or_create_collection(\"plan_prices\")\n",
    "brand_migrations_collection = chroma_client.get_or_create_collection(\"brand_migration_deals\")"
   ]
  },
  {
   "cell_type": "markdown",
   "id": "a614c23e",
   "metadata": {},
   "source": [
    "### Embed and Index Datasets\n",
    "\n",
    "This cell connects to the OpenAI API to generate embeddings using text-embedding-3-large, creates or retrieves collections with embedding support, and indexes all plan texts along with their metadata."
   ]
  },
  {
   "cell_type": "code",
   "execution_count": 12,
   "id": "356aefe8",
   "metadata": {},
   "outputs": [
    {
     "name": "stdout",
     "output_type": "stream",
     "text": [
      "Collection: plan_prices already exists.\n",
      "Collection: brand_migration_deals already exists.\n"
     ]
    }
   ],
   "source": [
    "load_dotenv()\n",
    "api_key = os.getenv(\"OPENAI_API_KEY\")\n",
    "\n",
    "\n",
    "def get_or_create_collection(client, name, embedding_function):\n",
    "    existing_collections = [c.name for c in client.list_collections()]\n",
    "\n",
    "    if name in existing_collections:\n",
    "        print(f\"Collection: {name} already exists.\")\n",
    "        return client.get_collection(name=name)\n",
    "    \n",
    "    else:\n",
    "        print(\"Collection: {name} created\")\n",
    "        return client.create_collection(name=name, embedding_function=embedding_function)\n",
    "    \n",
    "\n",
    "embedding_function = embedding_functions.OpenAIEmbeddingFunction(\n",
    "    api_key=api_key,\n",
    "    model_name=\"text-embedding-3-large\"\n",
    ")\n",
    "\n",
    "plan_prices_collection = get_or_create_collection(chroma_client, \"plan_prices\", embedding_function)\n",
    "brand_migrations_collection = get_or_create_collection(chroma_client, \"brand_migration_deals\", embedding_function)\n",
    "\n",
    "\n",
    "def index_dataset(collection, data):\n",
    "    texts = [d[\"text\"] for d in data]\n",
    "    metadatas = [d[\"metadata\"] for d in data]\n",
    "    ids = [f\"{m['provider']}_{m['plan_name']}\" for m in metadatas]\n",
    "\n",
    "    collection.add(ids=ids, documents=texts, metadatas=metadatas)\n",
    "\n",
    "\n",
    "index_dataset(plan_prices_collection, plan_prices)\n",
    "index_dataset(brand_migrations_collection, brand_migration_deals)"
   ]
  },
  {
   "cell_type": "markdown",
   "id": "b7251389",
   "metadata": {},
   "source": [
    "### Update Metadata\n",
    "\n",
    "This cell defines a helper function to update metadata for a specific entry in a Chroma collection without re-embdedding the text"
   ]
  },
  {
   "cell_type": "code",
   "execution_count": 13,
   "id": "6ff97364",
   "metadata": {},
   "outputs": [],
   "source": [
    "def update_metadata(collection, item_id, new_metadata):\n",
    "    existing = collection.get(ids=[item_id])\n",
    "\n",
    "    if not existing[\"ids\"]:\n",
    "        print(f\"No entry found for ID {item_id}\")\n",
    "        return\n",
    "    \n",
    "    collection.update(ids=[item_id], metadatas=[new_metadata])\n",
    "    print(f\"Metadata for {item_id} updated.\")\n"
   ]
  }
 ],
 "metadata": {
  "kernelspec": {
   "display_name": "Python 3",
   "language": "python",
   "name": "python3"
  },
  "language_info": {
   "codemirror_mode": {
    "name": "ipython",
    "version": 3
   },
   "file_extension": ".py",
   "mimetype": "text/x-python",
   "name": "python",
   "nbconvert_exporter": "python",
   "pygments_lexer": "ipython3",
   "version": "3.13.3"
  }
 },
 "nbformat": 4,
 "nbformat_minor": 5
}
