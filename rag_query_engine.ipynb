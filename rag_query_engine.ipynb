{
 "cells": [
  {
   "cell_type": "markdown",
   "id": "5e893fe0",
   "metadata": {},
   "source": [
    "### Necessary Imports"
   ]
  },
  {
   "cell_type": "code",
   "execution_count": null,
   "id": "7515e8a5",
   "metadata": {},
   "outputs": [],
   "source": [
    "import os\n",
    "from openai import OpenAI\n",
    "import chromadb\n",
    "from dotenv import load_dotenv"
   ]
  },
  {
   "cell_type": "markdown",
   "id": "6a706b22",
   "metadata": {},
   "source": [
    "#### Load OpenAI API and Initialize ChromaDB"
   ]
  },
  {
   "cell_type": "code",
   "execution_count": null,
   "id": "a9472443",
   "metadata": {},
   "outputs": [],
   "source": [
    "load_dotenv()\n",
    "api_key = os.getenv(\"OPENAI_API_KEY\")\n",
    "client = OpenAI(api_key=api_key)\n",
    "\n",
    "chroma_client = chromadb.PersistentClient(path=\"chromadb/mobile_advisor\")\n",
    "plan_prices_collection = chroma_client.get_collection(\"plan_prices\")\n",
    "brand_migrations_collection = chroma_client.get_collection(\"brand_migration_deals\")"
   ]
  },
  {
   "cell_type": "markdown",
   "id": "c7fa19aa",
   "metadata": {},
   "source": [
    "### Retrieval Function\n",
    "\n",
    "Define helper functions to query ChromaDB for relevant plans and generate a response using OpenAI."
   ]
  },
  {
   "cell_type": "code",
   "execution_count": 14,
   "id": "80aa8301",
   "metadata": {},
   "outputs": [],
   "source": [
    "def retrieve_relevant_docs(collection, query, n_results=15):\n",
    "    results = collection.query(\n",
    "        query_texts=[query],\n",
    "        n_results=n_results\n",
    "    )\n",
    "\n",
    "    docs = results[\"documents\"][0]\n",
    "    metadatas = results[\"metadatas\"][0]\n",
    "\n",
    "    return list(zip(docs, metadatas))"
   ]
  },
  {
   "cell_type": "markdown",
   "id": "cc3661b9",
   "metadata": {},
   "source": [
    "### RAG Function\n",
    "\n",
    "The RAG function expands the query, retrieves matching entries, and uses GPT-4o-mini to pick the cheapest valid plan based on strict provider and brand migration rules."
   ]
  },
  {
   "cell_type": "code",
   "execution_count": null,
   "id": "2fd08e03",
   "metadata": {},
   "outputs": [],
   "source": [
    "def rag_answer(query, collections):\n",
    "    def expand_query(query):\n",
    "        expansion = (\n",
    "            \" The customer might benefit from switching providers or taking brand migration deals.\"\n",
    "        )\n",
    "        return query + expansion\n",
    "    \n",
    "    query = expand_query(query)\n",
    "    \n",
    "    all_docs = []\n",
    "    for col in collections:\n",
    "        all_docs.extend(retrieve_relevant_docs(col, query))\n",
    "    \n",
    "    context = \"\\n\\n\".join([f\"{doc}\" for doc, _ in all_docs])\n",
    "\n",
    "    prompt = f\"\"\"\n",
    "    You are a strict mobile plan advisor. \n",
    "    1. NEVER recommend plans from the customer's current provider. \n",
    "    2. Check \"offer prices\" to make suggestions.\n",
    "    3. Brand migrations may be recommended ONLY IF:\n",
    "        a. Rogers owns Fido and Chatr. Migration only possible within themselves.\n",
    "        b. Bell owns Virgin Plus and Lucky Mobile. Migration only possible within themselves.\n",
    "        c. Telus owns Koodo Prepaid and Koodo Postpaid. Migration only possible within themselves.\n",
    "        d. If ustomer is with Lucky Mobile, recommend Virgin Plus if no other cheapest option is available. \n",
    "        e. If customer is with Virgin Plus, recommend Bell if no other cheapest option is available \n",
    "        f. If customer is with Chatr, recommend Fido if no other cheapest option is available. \n",
    "        g. If customer is with Fido, recommend Rogers if no other cheapest option is available.\n",
    "        h. New customers or customers who do not have an existing provider are not eligible for brand migration deals.\n",
    "    4. Look for switching providers.\n",
    "    5. Respond clearly with the provider name, plan name, and price. Bulletpoints, concise, factual, and to the point.\n",
    "    6. If there isn't any good offer, say there is nothing available.\n",
    "    7. Choose the cheapest deal that satisfies all contraints.\n",
    "\n",
    "    Context:\n",
    "    {context}\n",
    "\n",
    "    Question: {query}\n",
    "    \"\"\"\n",
    "\n",
    "    response = client.chat.completions.create(\n",
    "        model=\"gpt-4o-mini\",\n",
    "        messages=[\n",
    "            {\"role\": \"system\", \"content\": \"You are a helpful assistant that helps the advisor suggest good deals to the customer. Show key information in bulletpoints.\"},\n",
    "            {\"role\": \"user\", \"content\": prompt}\n",
    "        ]\n",
    "    )\n",
    "\n",
    "    return response.choices[0].message.content.strip()\n"
   ]
  },
  {
   "cell_type": "markdown",
   "id": "e2d4f831",
   "metadata": {},
   "source": [
    "### Example Queries"
   ]
  },
  {
   "cell_type": "code",
   "execution_count": 16,
   "id": "8b922243",
   "metadata": {},
   "outputs": [
    {
     "name": "stdout",
     "output_type": "stream",
     "text": [
      "Here are the best options available for the customer currently with Virgin Plus:\n",
      "\n",
      "### Recommended Plan:\n",
      "- **Provider:** Bell\n",
      "- **Plan Name:** Migration Special - From Virgin Plus\n",
      "- **Price:** $45 per month\n",
      "- **Data:** 120 GB high-speed data on a 5G+ network (unlimited reduced-speed after limit)\n",
      "- **Calling:** Unlimited within Canada and to U.S. + 1,000 international minutes to 27 countries\n",
      "- **Texting:** Unlimited for Canada, U.S., and internationally\n",
      "- **Streaming:** Supports HD video, includes access to Crave Basic\n",
      "- **Additional Perks:** Waived activation fee, hotspot capabilities\n",
      "\n",
      "This deal satisfies all constraints and is the cheapest option available for the customer.\n"
     ]
    }
   ],
   "source": [
    "query = \"Customer is with Virgin Plus paying $50 per month. Are there any cheaper deals?\"\n",
    "print(rag_answer(query, [plan_prices_collection, brand_migrations_collection]))"
   ]
  },
  {
   "cell_type": "code",
   "execution_count": 17,
   "id": "bcedff54",
   "metadata": {},
   "outputs": [
    {
     "name": "stdout",
     "output_type": "stream",
     "text": [
      "- **Provider**: Fido  \n",
      "  - **Plan Name**: 3GB Basic Plan - BYOP  \n",
      "  - **Price**: $39.00 per month  \n",
      "  - **Data**: 3 GB of high-speed data at 3 Mbps  \n",
      "  - **Calling**: Unlimited calling within Canada and to the U.S.  \n",
      "  - **International Calling**: 1000 international minutes to 27 countries  \n",
      "  - **Texting**: Unlimited within Canada, limited to 1000 international texts  \n",
      "  - **HD Streaming**: Not supported  \n",
      "  - **Additional Perks**: $15 charge for every 100 MB of data overage.  \n",
      "\n",
      "This is the cheapest option available while switching providers and considering brand migration constraints.\n"
     ]
    }
   ],
   "source": [
    "query = \"Customer is with Rogers paying $70 for 50GB. What is the cheapest plan available without data?\"\n",
    "print(rag_answer(query, [plan_prices_collection, brand_migrations_collection]))"
   ]
  },
  {
   "cell_type": "code",
   "execution_count": 18,
   "id": "5f22d294",
   "metadata": {},
   "outputs": [
    {
     "name": "stdout",
     "output_type": "stream",
     "text": [
      "Based on your requirements for maximum data at the highest speeds, here’s the best option available:\n",
      "\n",
      "### Recommendation:\n",
      "- **Provider:** Telus \n",
      "- **Plan Name:** 5G+ Complete Explore\n",
      "- **Price:** $110 per month (discounted from $120)\n",
      "    \n",
      "### Key Features:\n",
      "- **Data:** 250 GB of high-speed 5G+ data, reduced to 256 Kbps after reaching the limit\n",
      "- **Calling:** Unlimited calls within Canada and the U.S., unlimited international minutes to 68 countries\n",
      "- **Texting:** Unlimited texting within Canada, the U.S., and internationally\n",
      "- **Hotspot Capability:** Yes, with data sharing\n",
      "- **Streaming:** Supports HD video streaming\n",
      "- **Additional Perks:** \n",
      "  - Premium financing options for device discounts\n",
      "  - 5-Year Rate Plan Price Lock\n",
      "  - Easy Roam starting at $5 per day\n",
      "\n",
      "This plan offers the highest data cap and speeds while including comprehensive calling, texting, and additional perks.\n"
     ]
    }
   ],
   "source": [
    "query = \"Customer wants a new connection with maximum possible data at the highest possible speed. Price is not an issue.\"\n",
    "print(rag_answer(query, [plan_prices_collection, brand_migrations_collection]))"
   ]
  },
  {
   "cell_type": "code",
   "execution_count": 19,
   "id": "7326c75d",
   "metadata": {},
   "outputs": [
    {
     "name": "stdout",
     "output_type": "stream",
     "text": [
      "Based on the information available and the customer's need for calling in the U.S., I recommend the following plan:\n",
      "\n",
      "- **Provider**: Bell\n",
      "- **Plan Name**: Max - CAN/U.S.\n",
      "- **Price**: $65 per month (discounted)\n",
      "- **Key Features**:\n",
      "  - 175 GB of high-speed data with 5G+ connectivity\n",
      "  - Unlimited calling within Canada and the U.S.\n",
      "  - 1000 international minutes to 27 countries\n",
      "  - Roaming available in Canada and the U.S.\n",
      "  - Unlimited international texting\n",
      "  - HD video streaming\n",
      "  - Access to services like Crave Basic and Perplexity Pro AI for one year\n",
      "\n",
      "This plan provides comprehensive coverage for U.S. calls and includes substantial data and unlimited texting, making it suitable for the customer’s travel needs.\n"
     ]
    }
   ],
   "source": [
    "query = \"Customer is travelling to US. Which plan can I recommend?\"\n",
    "print(rag_answer(query, [plan_prices_collection, brand_migrations_collection]))"
   ]
  },
  {
   "cell_type": "code",
   "execution_count": 22,
   "id": "0f3f9122",
   "metadata": {},
   "outputs": [
    {
     "name": "stdout",
     "output_type": "stream",
     "text": [
      "- **Recommendation**: Nothing available.  \n",
      "There are no mobile plans cheaper than $25 that meet the specified criteria.\n"
     ]
    }
   ],
   "source": [
    "query = \"Customer is currently with Chatr paying $25 per month for talk and text only. Is there any plan cheaper than $25?\"\n",
    "print(rag_answer(query, [plan_prices_collection, brand_migrations_collection]))"
   ]
  }
 ],
 "metadata": {
  "kernelspec": {
   "display_name": "Python 3",
   "language": "python",
   "name": "python3"
  },
  "language_info": {
   "codemirror_mode": {
    "name": "ipython",
    "version": 3
   },
   "file_extension": ".py",
   "mimetype": "text/x-python",
   "name": "python",
   "nbconvert_exporter": "python",
   "pygments_lexer": "ipython3",
   "version": "3.13.3"
  }
 },
 "nbformat": 4,
 "nbformat_minor": 5
}
